{
 "cells": [
  {
   "cell_type": "markdown",
   "id": "384f794e",
   "metadata": {},
   "source": [
    "## Background:\n",
    "\n",
    "We are a portfolio investment company and we make investments in the emerging markets around the world. Our company profits by investing in profitable companies, buying, holding and selling company stocks based on value investing principles.\n",
    "\n",
    "Our goal is to establish a robust intelligent system to aid our value investing efforts using stock market data. We make investment decisions and based on intrinsic value of companies and do not trade on the basis of daily market volatility. Our profit realization strategy typically involves weekly, monthly and quarterly performance of stocks we buy or hold.\n",
    "\n",
    "\n",
    "### Data Description:\n",
    "\n",
    "You are given a set of portfolio companies trading data from emerging markets including 2020 Q1-Q2-Q3-Q4 2021 Q1 stock prices. Each company stock is provided in different sheets. Each market's operating days varies based on the country of the company and the market the stocks are exchanged. Use only 2020 data and predict with 2021 Q1 data.\n",
    "\n",
    "### Goal(s):\n",
    "\n",
    "Predict stock price valuations on a daily, weekly and monthly basis. Recommend BUY, HOLD, SELL decisions. Maximize capital returns, minimize losses. Ideally a loss should never happen. Minimize HOLD period.\n",
    "\n",
    "### Success Metrics:\n",
    "\n",
    "Evaluate on the basis of capital returns. Use Bollinger Bands to measure your systems effectiveness."
   ]
  },
  {
   "cell_type": "code",
   "execution_count": 1,
   "id": "ff21905e",
   "metadata": {},
   "outputs": [],
   "source": [
    "#Import Libraries\n",
    "\n",
    "import pandas as pd\n",
    "import numpy as np\n",
    "import seaborn as sns\n",
    "import tensorflow as tf\n",
    "from tensorflow import keras\n",
    "from tensorflow.keras import layers\n",
    "import keras\n",
    "from keras.models import Sequential\n",
    "from keras.layers import LSTM\n",
    "from keras.layers import Dense\n",
    "from keras.layers import Dropout\n",
    "from sklearn.preprocessing import StandardScaler\n",
    "from matplotlib import pyplot as plt\n",
    "from datetime import datetime\n",
    "import os\n"
   ]
  },
  {
   "cell_type": "markdown",
   "id": "26082da6",
   "metadata": {},
   "source": [
    "### Data Exploration"
   ]
  },
  {
   "cell_type": "code",
   "execution_count": 2,
   "id": "4ced5128",
   "metadata": {},
   "outputs": [],
   "source": [
    "# Load the Dataset\n",
    "\n",
    "Data = pd.read_csv('C:\\\\Users\\\\Public\\\\Sberbank.csv')\n",
    "Dataset = Data.copy()"
   ]
  },
  {
   "cell_type": "code",
   "execution_count": 3,
   "id": "45131701",
   "metadata": {},
   "outputs": [
    {
     "data": {
      "text/html": [
       "<div>\n",
       "<style scoped>\n",
       "    .dataframe tbody tr th:only-of-type {\n",
       "        vertical-align: middle;\n",
       "    }\n",
       "\n",
       "    .dataframe tbody tr th {\n",
       "        vertical-align: top;\n",
       "    }\n",
       "\n",
       "    .dataframe thead th {\n",
       "        text-align: right;\n",
       "    }\n",
       "</style>\n",
       "<table border=\"1\" class=\"dataframe\">\n",
       "  <thead>\n",
       "    <tr style=\"text-align: right;\">\n",
       "      <th></th>\n",
       "      <th>Date</th>\n",
       "      <th>Price</th>\n",
       "      <th>Open</th>\n",
       "      <th>High</th>\n",
       "      <th>Low</th>\n",
       "      <th>Vol.</th>\n",
       "      <th>Change %</th>\n",
       "    </tr>\n",
       "  </thead>\n",
       "  <tbody>\n",
       "    <tr>\n",
       "      <th>0</th>\n",
       "      <td>31-Mar-21</td>\n",
       "      <td>291.02</td>\n",
       "      <td>294.00</td>\n",
       "      <td>294.42</td>\n",
       "      <td>290.26</td>\n",
       "      <td>47,000,000.00</td>\n",
       "      <td>-0.76%</td>\n",
       "    </tr>\n",
       "    <tr>\n",
       "      <th>1</th>\n",
       "      <td>30-Mar-21</td>\n",
       "      <td>293.25</td>\n",
       "      <td>294.86</td>\n",
       "      <td>295.72</td>\n",
       "      <td>291.50</td>\n",
       "      <td>38,810,000.00</td>\n",
       "      <td>-0.02%</td>\n",
       "    </tr>\n",
       "    <tr>\n",
       "      <th>2</th>\n",
       "      <td>29-Mar-21</td>\n",
       "      <td>293.30</td>\n",
       "      <td>289.72</td>\n",
       "      <td>294.09</td>\n",
       "      <td>289.26</td>\n",
       "      <td>43,680,000.00</td>\n",
       "      <td>0.71%</td>\n",
       "    </tr>\n",
       "    <tr>\n",
       "      <th>3</th>\n",
       "      <td>26-Mar-21</td>\n",
       "      <td>291.22</td>\n",
       "      <td>288.63</td>\n",
       "      <td>292.75</td>\n",
       "      <td>288.32</td>\n",
       "      <td>56,070,000.00</td>\n",
       "      <td>1.59%</td>\n",
       "    </tr>\n",
       "    <tr>\n",
       "      <th>4</th>\n",
       "      <td>25-Mar-21</td>\n",
       "      <td>286.66</td>\n",
       "      <td>286.50</td>\n",
       "      <td>287.03</td>\n",
       "      <td>283.85</td>\n",
       "      <td>35,220,000.00</td>\n",
       "      <td>0.30%</td>\n",
       "    </tr>\n",
       "  </tbody>\n",
       "</table>\n",
       "</div>"
      ],
      "text/plain": [
       "        Date   Price    Open    High     Low            Vol.   Change %\n",
       "0  31-Mar-21   291.02  294.00  294.42  290.26   47,000,000.00    -0.76%\n",
       "1  30-Mar-21   293.25  294.86  295.72  291.50   38,810,000.00    -0.02%\n",
       "2  29-Mar-21   293.30  289.72  294.09  289.26   43,680,000.00     0.71%\n",
       "3  26-Mar-21   291.22  288.63  292.75  288.32   56,070,000.00     1.59%\n",
       "4  25-Mar-21   286.66  286.50  287.03  283.85   35,220,000.00     0.30%"
      ]
     },
     "execution_count": 3,
     "metadata": {},
     "output_type": "execute_result"
    }
   ],
   "source": [
    "Dataset.head()"
   ]
  },
  {
   "cell_type": "code",
   "execution_count": 4,
   "id": "256b0c79",
   "metadata": {},
   "outputs": [
    {
     "name": "stdout",
     "output_type": "stream",
     "text": [
      "<class 'pandas.core.frame.DataFrame'>\n",
      "RangeIndex: 1065 entries, 0 to 1064\n",
      "Data columns (total 7 columns):\n",
      " #   Column    Non-Null Count  Dtype  \n",
      "---  ------    --------------  -----  \n",
      " 0   Date      1065 non-null   object \n",
      " 1    Price    1065 non-null   float64\n",
      " 2    Open     1065 non-null   float64\n",
      " 3    High     1065 non-null   float64\n",
      " 4    Low      1065 non-null   float64\n",
      " 5     Vol.    1065 non-null   object \n",
      " 6   Change %  1065 non-null   object \n",
      "dtypes: float64(4), object(3)\n",
      "memory usage: 58.4+ KB\n"
     ]
    }
   ],
   "source": [
    "Dataset.info()"
   ]
  },
  {
   "cell_type": "code",
   "execution_count": 5,
   "id": "e3021b24",
   "metadata": {},
   "outputs": [
    {
     "data": {
      "text/html": [
       "<div>\n",
       "<style scoped>\n",
       "    .dataframe tbody tr th:only-of-type {\n",
       "        vertical-align: middle;\n",
       "    }\n",
       "\n",
       "    .dataframe tbody tr th {\n",
       "        vertical-align: top;\n",
       "    }\n",
       "\n",
       "    .dataframe thead th {\n",
       "        text-align: right;\n",
       "    }\n",
       "</style>\n",
       "<table border=\"1\" class=\"dataframe\">\n",
       "  <thead>\n",
       "    <tr style=\"text-align: right;\">\n",
       "      <th></th>\n",
       "      <th>Price</th>\n",
       "      <th>Open</th>\n",
       "      <th>High</th>\n",
       "      <th>Low</th>\n",
       "    </tr>\n",
       "  </thead>\n",
       "  <tbody>\n",
       "    <tr>\n",
       "      <th>count</th>\n",
       "      <td>1065.000000</td>\n",
       "      <td>1065.000000</td>\n",
       "      <td>1065.000000</td>\n",
       "      <td>1065.000000</td>\n",
       "    </tr>\n",
       "    <tr>\n",
       "      <th>mean</th>\n",
       "      <td>215.096225</td>\n",
       "      <td>215.062911</td>\n",
       "      <td>217.526948</td>\n",
       "      <td>212.484338</td>\n",
       "    </tr>\n",
       "    <tr>\n",
       "      <th>std</th>\n",
       "      <td>33.843514</td>\n",
       "      <td>33.799929</td>\n",
       "      <td>34.082267</td>\n",
       "      <td>33.513738</td>\n",
       "    </tr>\n",
       "    <tr>\n",
       "      <th>min</th>\n",
       "      <td>139.000000</td>\n",
       "      <td>139.650000</td>\n",
       "      <td>142.210000</td>\n",
       "      <td>136.200000</td>\n",
       "    </tr>\n",
       "    <tr>\n",
       "      <th>25%</th>\n",
       "      <td>191.000000</td>\n",
       "      <td>191.160000</td>\n",
       "      <td>193.270000</td>\n",
       "      <td>188.200000</td>\n",
       "    </tr>\n",
       "    <tr>\n",
       "      <th>50%</th>\n",
       "      <td>216.710000</td>\n",
       "      <td>216.900000</td>\n",
       "      <td>219.180000</td>\n",
       "      <td>214.610000</td>\n",
       "    </tr>\n",
       "    <tr>\n",
       "      <th>75%</th>\n",
       "      <td>237.500000</td>\n",
       "      <td>237.500000</td>\n",
       "      <td>239.770000</td>\n",
       "      <td>235.000000</td>\n",
       "    </tr>\n",
       "    <tr>\n",
       "      <th>max</th>\n",
       "      <td>293.300000</td>\n",
       "      <td>294.860000</td>\n",
       "      <td>296.070000</td>\n",
       "      <td>291.500000</td>\n",
       "    </tr>\n",
       "  </tbody>\n",
       "</table>\n",
       "</div>"
      ],
      "text/plain": [
       "            Price         Open         High          Low \n",
       "count  1065.000000  1065.000000  1065.000000  1065.000000\n",
       "mean    215.096225   215.062911   217.526948   212.484338\n",
       "std      33.843514    33.799929    34.082267    33.513738\n",
       "min     139.000000   139.650000   142.210000   136.200000\n",
       "25%     191.000000   191.160000   193.270000   188.200000\n",
       "50%     216.710000   216.900000   219.180000   214.610000\n",
       "75%     237.500000   237.500000   239.770000   235.000000\n",
       "max     293.300000   294.860000   296.070000   291.500000"
      ]
     },
     "execution_count": 5,
     "metadata": {},
     "output_type": "execute_result"
    }
   ],
   "source": [
    "Dataset.describe()"
   ]
  },
  {
   "cell_type": "code",
   "execution_count": 6,
   "id": "cd060e01",
   "metadata": {},
   "outputs": [
    {
     "name": "stderr",
     "output_type": "stream",
     "text": [
      "C:\\Users\\Dorcas Taiwo\\AppData\\Local\\Temp\\ipykernel_20376\\497014891.py:1: FutureWarning: The default value of numeric_only in DataFrame.corr is deprecated. In a future version, it will default to False. Select only valid columns or specify the value of numeric_only to silence this warning.\n",
      "  Dataset.corr()\n"
     ]
    },
    {
     "data": {
      "text/html": [
       "<div>\n",
       "<style scoped>\n",
       "    .dataframe tbody tr th:only-of-type {\n",
       "        vertical-align: middle;\n",
       "    }\n",
       "\n",
       "    .dataframe tbody tr th {\n",
       "        vertical-align: top;\n",
       "    }\n",
       "\n",
       "    .dataframe thead th {\n",
       "        text-align: right;\n",
       "    }\n",
       "</style>\n",
       "<table border=\"1\" class=\"dataframe\">\n",
       "  <thead>\n",
       "    <tr style=\"text-align: right;\">\n",
       "      <th></th>\n",
       "      <th>Price</th>\n",
       "      <th>Open</th>\n",
       "      <th>High</th>\n",
       "      <th>Low</th>\n",
       "    </tr>\n",
       "  </thead>\n",
       "  <tbody>\n",
       "    <tr>\n",
       "      <th>Price</th>\n",
       "      <td>1.000000</td>\n",
       "      <td>0.994382</td>\n",
       "      <td>0.997103</td>\n",
       "      <td>0.997383</td>\n",
       "    </tr>\n",
       "    <tr>\n",
       "      <th>Open</th>\n",
       "      <td>0.994382</td>\n",
       "      <td>1.000000</td>\n",
       "      <td>0.997728</td>\n",
       "      <td>0.996862</td>\n",
       "    </tr>\n",
       "    <tr>\n",
       "      <th>High</th>\n",
       "      <td>0.997103</td>\n",
       "      <td>0.997728</td>\n",
       "      <td>1.000000</td>\n",
       "      <td>0.995828</td>\n",
       "    </tr>\n",
       "    <tr>\n",
       "      <th>Low</th>\n",
       "      <td>0.997383</td>\n",
       "      <td>0.996862</td>\n",
       "      <td>0.995828</td>\n",
       "      <td>1.000000</td>\n",
       "    </tr>\n",
       "  </tbody>\n",
       "</table>\n",
       "</div>"
      ],
      "text/plain": [
       "           Price      Open      High       Low \n",
       " Price   1.000000  0.994382  0.997103  0.997383\n",
       " Open    0.994382  1.000000  0.997728  0.996862\n",
       " High    0.997103  0.997728  1.000000  0.995828\n",
       " Low     0.997383  0.996862  0.995828  1.000000"
      ]
     },
     "execution_count": 6,
     "metadata": {},
     "output_type": "execute_result"
    }
   ],
   "source": [
    "Dataset.corr()"
   ]
  },
  {
   "cell_type": "code",
   "execution_count": 7,
   "id": "59821809",
   "metadata": {},
   "outputs": [],
   "source": [
    "Dataset['Date'] = pd.to_datetime(Dataset[\"Date\"])\n",
    "Dataset['Change %'] = Dataset['Change %'].str.rstrip(\"%\").astype(float)"
   ]
  },
  {
   "cell_type": "code",
   "execution_count": 8,
   "id": "47f6ef20",
   "metadata": {},
   "outputs": [
    {
     "name": "stderr",
     "output_type": "stream",
     "text": [
      "C:\\Users\\Dorcas Taiwo\\AppData\\Local\\Temp\\ipykernel_20376\\1628503213.py:2: FutureWarning: Series.dt.weekofyear and Series.dt.week have been deprecated. Please use Series.dt.isocalendar().week instead.\n",
      "  Dataset['WeekNum'] = Dataset[\"Date\"].dt.week\n"
     ]
    }
   ],
   "source": [
    "Dataset['Month'] = Dataset[\"Date\"].dt.month\n",
    "Dataset['WeekNum'] = Dataset[\"Date\"].dt.week\n",
    "Dataset['Quarter'] = Dataset[\"Date\"].dt.quarter\n",
    "Dataset['Year'] = Dataset[\"Date\"].dt.year"
   ]
  },
  {
   "cell_type": "code",
   "execution_count": null,
   "id": "e3042482",
   "metadata": {
    "scrolled": true
   },
   "outputs": [],
   "source": [
    "#Dataset['Vol.'] = Dataset['Vol.'].astype(float)"
   ]
  },
  {
   "cell_type": "code",
   "execution_count": 9,
   "id": "13bd81c8",
   "metadata": {},
   "outputs": [
    {
     "data": {
      "text/html": [
       "<div>\n",
       "<style scoped>\n",
       "    .dataframe tbody tr th:only-of-type {\n",
       "        vertical-align: middle;\n",
       "    }\n",
       "\n",
       "    .dataframe tbody tr th {\n",
       "        vertical-align: top;\n",
       "    }\n",
       "\n",
       "    .dataframe thead th {\n",
       "        text-align: right;\n",
       "    }\n",
       "</style>\n",
       "<table border=\"1\" class=\"dataframe\">\n",
       "  <thead>\n",
       "    <tr style=\"text-align: right;\">\n",
       "      <th></th>\n",
       "      <th>Date</th>\n",
       "      <th>Price</th>\n",
       "      <th>Open</th>\n",
       "      <th>High</th>\n",
       "      <th>Low</th>\n",
       "      <th>Vol.</th>\n",
       "      <th>Change %</th>\n",
       "      <th>Month</th>\n",
       "      <th>WeekNum</th>\n",
       "      <th>Quarter</th>\n",
       "      <th>Year</th>\n",
       "    </tr>\n",
       "  </thead>\n",
       "  <tbody>\n",
       "    <tr>\n",
       "      <th>0</th>\n",
       "      <td>2021-03-31</td>\n",
       "      <td>291.02</td>\n",
       "      <td>294.00</td>\n",
       "      <td>294.42</td>\n",
       "      <td>290.26</td>\n",
       "      <td>47,000,000.00</td>\n",
       "      <td>-0.76</td>\n",
       "      <td>3</td>\n",
       "      <td>13</td>\n",
       "      <td>1</td>\n",
       "      <td>2021</td>\n",
       "    </tr>\n",
       "    <tr>\n",
       "      <th>1</th>\n",
       "      <td>2021-03-30</td>\n",
       "      <td>293.25</td>\n",
       "      <td>294.86</td>\n",
       "      <td>295.72</td>\n",
       "      <td>291.50</td>\n",
       "      <td>38,810,000.00</td>\n",
       "      <td>-0.02</td>\n",
       "      <td>3</td>\n",
       "      <td>13</td>\n",
       "      <td>1</td>\n",
       "      <td>2021</td>\n",
       "    </tr>\n",
       "    <tr>\n",
       "      <th>2</th>\n",
       "      <td>2021-03-29</td>\n",
       "      <td>293.30</td>\n",
       "      <td>289.72</td>\n",
       "      <td>294.09</td>\n",
       "      <td>289.26</td>\n",
       "      <td>43,680,000.00</td>\n",
       "      <td>0.71</td>\n",
       "      <td>3</td>\n",
       "      <td>13</td>\n",
       "      <td>1</td>\n",
       "      <td>2021</td>\n",
       "    </tr>\n",
       "    <tr>\n",
       "      <th>3</th>\n",
       "      <td>2021-03-26</td>\n",
       "      <td>291.22</td>\n",
       "      <td>288.63</td>\n",
       "      <td>292.75</td>\n",
       "      <td>288.32</td>\n",
       "      <td>56,070,000.00</td>\n",
       "      <td>1.59</td>\n",
       "      <td>3</td>\n",
       "      <td>12</td>\n",
       "      <td>1</td>\n",
       "      <td>2021</td>\n",
       "    </tr>\n",
       "    <tr>\n",
       "      <th>4</th>\n",
       "      <td>2021-03-25</td>\n",
       "      <td>286.66</td>\n",
       "      <td>286.50</td>\n",
       "      <td>287.03</td>\n",
       "      <td>283.85</td>\n",
       "      <td>35,220,000.00</td>\n",
       "      <td>0.30</td>\n",
       "      <td>3</td>\n",
       "      <td>12</td>\n",
       "      <td>1</td>\n",
       "      <td>2021</td>\n",
       "    </tr>\n",
       "  </tbody>\n",
       "</table>\n",
       "</div>"
      ],
      "text/plain": [
       "        Date   Price    Open    High     Low            Vol.    Change %  \\\n",
       "0 2021-03-31   291.02  294.00  294.42  290.26   47,000,000.00      -0.76   \n",
       "1 2021-03-30   293.25  294.86  295.72  291.50   38,810,000.00      -0.02   \n",
       "2 2021-03-29   293.30  289.72  294.09  289.26   43,680,000.00       0.71   \n",
       "3 2021-03-26   291.22  288.63  292.75  288.32   56,070,000.00       1.59   \n",
       "4 2021-03-25   286.66  286.50  287.03  283.85   35,220,000.00       0.30   \n",
       "\n",
       "   Month  WeekNum  Quarter  Year  \n",
       "0      3       13        1  2021  \n",
       "1      3       13        1  2021  \n",
       "2      3       13        1  2021  \n",
       "3      3       12        1  2021  \n",
       "4      3       12        1  2021  "
      ]
     },
     "execution_count": 9,
     "metadata": {},
     "output_type": "execute_result"
    }
   ],
   "source": [
    "Dataset.head()"
   ]
  },
  {
   "cell_type": "code",
   "execution_count": 10,
   "id": "02477fe7",
   "metadata": {},
   "outputs": [],
   "source": [
    "month_dict = {1:'Jan', 2: 'Feb', 3: 'Mar', 4: 'Apr', 5: 'May', 6: 'Jun', 7: 'Jul', 8: 'Aug', 9: 'Sep', 10: 'Oct', \n",
    "              11: 'Nov', 12: 'Dec'}\n",
    "Quarter_dict = {1:\"Q1\", 2:'Q2', 3:'Q3', 4:'Q4'}"
   ]
  },
  {
   "cell_type": "code",
   "execution_count": 11,
   "id": "0f1b9596",
   "metadata": {},
   "outputs": [],
   "source": [
    "Dataset['Month'] = Dataset.Month.map(month_dict)\n",
    "Dataset['Quarter'] = Dataset.Quarter.map(Quarter_dict)"
   ]
  },
  {
   "cell_type": "code",
   "execution_count": 12,
   "id": "3db80a59",
   "metadata": {},
   "outputs": [],
   "source": [
    "# Using + operator to combine two columns\n",
    "# Example df[\"Period\"] = df['Courses'].astype(str) +\"-\"+ df[\"Duration\"]\n",
    "# Example df['var3'] = df[['var1', 'var2']].astype(str).apply(lambda x: ''.join(x), axis=1)\n",
    "\n",
    "Dataset[\"Quarter/Year\"] = Dataset[['Quarter', 'Year']].astype(str).apply(lambda x: ''.join(x), axis=1)"
   ]
  },
  {
   "cell_type": "code",
   "execution_count": 13,
   "id": "f202c6d9",
   "metadata": {
    "scrolled": true
   },
   "outputs": [
    {
     "data": {
      "text/html": [
       "<div>\n",
       "<style scoped>\n",
       "    .dataframe tbody tr th:only-of-type {\n",
       "        vertical-align: middle;\n",
       "    }\n",
       "\n",
       "    .dataframe tbody tr th {\n",
       "        vertical-align: top;\n",
       "    }\n",
       "\n",
       "    .dataframe thead th {\n",
       "        text-align: right;\n",
       "    }\n",
       "</style>\n",
       "<table border=\"1\" class=\"dataframe\">\n",
       "  <thead>\n",
       "    <tr style=\"text-align: right;\">\n",
       "      <th></th>\n",
       "      <th>Date</th>\n",
       "      <th>Price</th>\n",
       "      <th>Open</th>\n",
       "      <th>High</th>\n",
       "      <th>Low</th>\n",
       "      <th>Vol.</th>\n",
       "      <th>Change %</th>\n",
       "      <th>Month</th>\n",
       "      <th>WeekNum</th>\n",
       "      <th>Quarter</th>\n",
       "      <th>Year</th>\n",
       "      <th>Quarter/Year</th>\n",
       "    </tr>\n",
       "  </thead>\n",
       "  <tbody>\n",
       "    <tr>\n",
       "      <th>0</th>\n",
       "      <td>2021-03-31</td>\n",
       "      <td>291.02</td>\n",
       "      <td>294.00</td>\n",
       "      <td>294.42</td>\n",
       "      <td>290.26</td>\n",
       "      <td>47,000,000.00</td>\n",
       "      <td>-0.76</td>\n",
       "      <td>Mar</td>\n",
       "      <td>13</td>\n",
       "      <td>Q1</td>\n",
       "      <td>2021</td>\n",
       "      <td>Q12021</td>\n",
       "    </tr>\n",
       "    <tr>\n",
       "      <th>1</th>\n",
       "      <td>2021-03-30</td>\n",
       "      <td>293.25</td>\n",
       "      <td>294.86</td>\n",
       "      <td>295.72</td>\n",
       "      <td>291.50</td>\n",
       "      <td>38,810,000.00</td>\n",
       "      <td>-0.02</td>\n",
       "      <td>Mar</td>\n",
       "      <td>13</td>\n",
       "      <td>Q1</td>\n",
       "      <td>2021</td>\n",
       "      <td>Q12021</td>\n",
       "    </tr>\n",
       "    <tr>\n",
       "      <th>2</th>\n",
       "      <td>2021-03-29</td>\n",
       "      <td>293.30</td>\n",
       "      <td>289.72</td>\n",
       "      <td>294.09</td>\n",
       "      <td>289.26</td>\n",
       "      <td>43,680,000.00</td>\n",
       "      <td>0.71</td>\n",
       "      <td>Mar</td>\n",
       "      <td>13</td>\n",
       "      <td>Q1</td>\n",
       "      <td>2021</td>\n",
       "      <td>Q12021</td>\n",
       "    </tr>\n",
       "    <tr>\n",
       "      <th>3</th>\n",
       "      <td>2021-03-26</td>\n",
       "      <td>291.22</td>\n",
       "      <td>288.63</td>\n",
       "      <td>292.75</td>\n",
       "      <td>288.32</td>\n",
       "      <td>56,070,000.00</td>\n",
       "      <td>1.59</td>\n",
       "      <td>Mar</td>\n",
       "      <td>12</td>\n",
       "      <td>Q1</td>\n",
       "      <td>2021</td>\n",
       "      <td>Q12021</td>\n",
       "    </tr>\n",
       "    <tr>\n",
       "      <th>4</th>\n",
       "      <td>2021-03-25</td>\n",
       "      <td>286.66</td>\n",
       "      <td>286.50</td>\n",
       "      <td>287.03</td>\n",
       "      <td>283.85</td>\n",
       "      <td>35,220,000.00</td>\n",
       "      <td>0.30</td>\n",
       "      <td>Mar</td>\n",
       "      <td>12</td>\n",
       "      <td>Q1</td>\n",
       "      <td>2021</td>\n",
       "      <td>Q12021</td>\n",
       "    </tr>\n",
       "  </tbody>\n",
       "</table>\n",
       "</div>"
      ],
      "text/plain": [
       "        Date   Price    Open    High     Low            Vol.    Change %  \\\n",
       "0 2021-03-31   291.02  294.00  294.42  290.26   47,000,000.00      -0.76   \n",
       "1 2021-03-30   293.25  294.86  295.72  291.50   38,810,000.00      -0.02   \n",
       "2 2021-03-29   293.30  289.72  294.09  289.26   43,680,000.00       0.71   \n",
       "3 2021-03-26   291.22  288.63  292.75  288.32   56,070,000.00       1.59   \n",
       "4 2021-03-25   286.66  286.50  287.03  283.85   35,220,000.00       0.30   \n",
       "\n",
       "  Month  WeekNum Quarter  Year Quarter/Year  \n",
       "0   Mar       13      Q1  2021       Q12021  \n",
       "1   Mar       13      Q1  2021       Q12021  \n",
       "2   Mar       13      Q1  2021       Q12021  \n",
       "3   Mar       12      Q1  2021       Q12021  \n",
       "4   Mar       12      Q1  2021       Q12021  "
      ]
     },
     "execution_count": 13,
     "metadata": {},
     "output_type": "execute_result"
    }
   ],
   "source": [
    "Dataset.head()"
   ]
  },
  {
   "cell_type": "markdown",
   "id": "cd852a8c",
   "metadata": {},
   "source": [
    "### Data Preprocessing"
   ]
  },
  {
   "cell_type": "code",
   "execution_count": 14,
   "id": "6a3f03db",
   "metadata": {},
   "outputs": [],
   "source": [
    "train = Dataset.loc[Dataset['Year'] < 2021]\n",
    "test = Dataset.loc[Dataset['Year'] >= 2021]"
   ]
  },
  {
   "cell_type": "code",
   "execution_count": 82,
   "id": "83790b88",
   "metadata": {},
   "outputs": [
    {
     "name": "stdout",
     "output_type": "stream",
     "text": [
      "Date            1004\n",
      " Price          1004\n",
      " Open           1004\n",
      " High           1004\n",
      " Low            1004\n",
      "  Vol.          1004\n",
      "Change %        1004\n",
      "Month           1004\n",
      "WeekNum         1004\n",
      "Quarter         1004\n",
      "Year            1004\n",
      "Quarter/Year    1004\n",
      "dtype: int64 Date            61\n",
      " Price          61\n",
      " Open           61\n",
      " High           61\n",
      " Low            61\n",
      "  Vol.          61\n",
      "Change %        61\n",
      "Month           61\n",
      "WeekNum         61\n",
      "Quarter         61\n",
      "Year            61\n",
      "Quarter/Year    61\n",
      "dtype: int64\n"
     ]
    }
   ],
   "source": [
    "print(train.count())\n",
    "print(test.count())"
   ]
  },
  {
   "cell_type": "code",
   "execution_count": 16,
   "id": "e1aefbb0",
   "metadata": {},
   "outputs": [
    {
     "data": {
      "text/plain": [
       "61     2020-12-30\n",
       "62     2020-12-29\n",
       "63     2020-12-28\n",
       "64     2020-12-25\n",
       "65     2020-12-24\n",
       "          ...    \n",
       "1060   2017-01-09\n",
       "1061   2017-01-06\n",
       "1062   2017-01-05\n",
       "1063   2017-01-04\n",
       "1064   2017-01-03\n",
       "Name: Date, Length: 1004, dtype: datetime64[ns]"
      ]
     },
     "execution_count": 16,
     "metadata": {},
     "output_type": "execute_result"
    }
   ],
   "source": [
    "train_dates = train['Date']\n",
    "train_dates "
   ]
  },
  {
   "cell_type": "code",
   "execution_count": 17,
   "id": "6196751d",
   "metadata": {},
   "outputs": [
    {
     "data": {
      "text/plain": [
       "0    2021-03-31\n",
       "1    2021-03-30\n",
       "2    2021-03-29\n",
       "3    2021-03-26\n",
       "4    2021-03-25\n",
       "        ...    \n",
       "56   2021-01-11\n",
       "57   2021-01-08\n",
       "58   2021-01-06\n",
       "59   2021-01-05\n",
       "60   2021-01-04\n",
       "Name: Date, Length: 61, dtype: datetime64[ns]"
      ]
     },
     "execution_count": 17,
     "metadata": {},
     "output_type": "execute_result"
    }
   ],
   "source": [
    "test_dates = test['Date']\n",
    "test_dates "
   ]
  },
  {
   "cell_type": "code",
   "execution_count": 18,
   "id": "06aa6c23",
   "metadata": {},
   "outputs": [
    {
     "data": {
      "text/html": [
       "<div>\n",
       "<style scoped>\n",
       "    .dataframe tbody tr th:only-of-type {\n",
       "        vertical-align: middle;\n",
       "    }\n",
       "\n",
       "    .dataframe tbody tr th {\n",
       "        vertical-align: top;\n",
       "    }\n",
       "\n",
       "    .dataframe thead th {\n",
       "        text-align: right;\n",
       "    }\n",
       "</style>\n",
       "<table border=\"1\" class=\"dataframe\">\n",
       "  <thead>\n",
       "    <tr style=\"text-align: right;\">\n",
       "      <th></th>\n",
       "      <th>Price</th>\n",
       "      <th>Open</th>\n",
       "      <th>High</th>\n",
       "      <th>Low</th>\n",
       "    </tr>\n",
       "  </thead>\n",
       "  <tbody>\n",
       "    <tr>\n",
       "      <th>61</th>\n",
       "      <td>271.65</td>\n",
       "      <td>272.49</td>\n",
       "      <td>274.24</td>\n",
       "      <td>270.12</td>\n",
       "    </tr>\n",
       "    <tr>\n",
       "      <th>62</th>\n",
       "      <td>272.00</td>\n",
       "      <td>275.91</td>\n",
       "      <td>276.43</td>\n",
       "      <td>271.26</td>\n",
       "    </tr>\n",
       "    <tr>\n",
       "      <th>63</th>\n",
       "      <td>274.70</td>\n",
       "      <td>270.90</td>\n",
       "      <td>275.19</td>\n",
       "      <td>269.73</td>\n",
       "    </tr>\n",
       "    <tr>\n",
       "      <th>64</th>\n",
       "      <td>270.64</td>\n",
       "      <td>269.97</td>\n",
       "      <td>271.00</td>\n",
       "      <td>268.28</td>\n",
       "    </tr>\n",
       "    <tr>\n",
       "      <th>65</th>\n",
       "      <td>269.32</td>\n",
       "      <td>271.98</td>\n",
       "      <td>272.82</td>\n",
       "      <td>267.13</td>\n",
       "    </tr>\n",
       "    <tr>\n",
       "      <th>...</th>\n",
       "      <td>...</td>\n",
       "      <td>...</td>\n",
       "      <td>...</td>\n",
       "      <td>...</td>\n",
       "    </tr>\n",
       "    <tr>\n",
       "      <th>1060</th>\n",
       "      <td>168.35</td>\n",
       "      <td>171.37</td>\n",
       "      <td>172.39</td>\n",
       "      <td>168.05</td>\n",
       "    </tr>\n",
       "    <tr>\n",
       "      <th>1061</th>\n",
       "      <td>170.69</td>\n",
       "      <td>172.40</td>\n",
       "      <td>173.75</td>\n",
       "      <td>169.50</td>\n",
       "    </tr>\n",
       "    <tr>\n",
       "      <th>1062</th>\n",
       "      <td>171.90</td>\n",
       "      <td>176.31</td>\n",
       "      <td>177.28</td>\n",
       "      <td>171.54</td>\n",
       "    </tr>\n",
       "    <tr>\n",
       "      <th>1063</th>\n",
       "      <td>175.95</td>\n",
       "      <td>178.90</td>\n",
       "      <td>179.41</td>\n",
       "      <td>174.23</td>\n",
       "    </tr>\n",
       "    <tr>\n",
       "      <th>1064</th>\n",
       "      <td>180.12</td>\n",
       "      <td>173.40</td>\n",
       "      <td>181.68</td>\n",
       "      <td>173.00</td>\n",
       "    </tr>\n",
       "  </tbody>\n",
       "</table>\n",
       "<p>1004 rows × 4 columns</p>\n",
       "</div>"
      ],
      "text/plain": [
       "       Price    Open    High     Low \n",
       "61     271.65  272.49  274.24  270.12\n",
       "62     272.00  275.91  276.43  271.26\n",
       "63     274.70  270.90  275.19  269.73\n",
       "64     270.64  269.97  271.00  268.28\n",
       "65     269.32  271.98  272.82  267.13\n",
       "...       ...     ...     ...     ...\n",
       "1060   168.35  171.37  172.39  168.05\n",
       "1061   170.69  172.40  173.75  169.50\n",
       "1062   171.90  176.31  177.28  171.54\n",
       "1063   175.95  178.90  179.41  174.23\n",
       "1064   180.12  173.40  181.68  173.00\n",
       "\n",
       "[1004 rows x 4 columns]"
      ]
     },
     "execution_count": 18,
     "metadata": {},
     "output_type": "execute_result"
    }
   ],
   "source": [
    "cols = list(train)[1:5]\n",
    "train_col = train[cols].astype(float)\n",
    "train_col"
   ]
  },
  {
   "cell_type": "code",
   "execution_count": 19,
   "id": "50aebeb4",
   "metadata": {},
   "outputs": [
    {
     "data": {
      "text/html": [
       "<div>\n",
       "<style scoped>\n",
       "    .dataframe tbody tr th:only-of-type {\n",
       "        vertical-align: middle;\n",
       "    }\n",
       "\n",
       "    .dataframe tbody tr th {\n",
       "        vertical-align: top;\n",
       "    }\n",
       "\n",
       "    .dataframe thead th {\n",
       "        text-align: right;\n",
       "    }\n",
       "</style>\n",
       "<table border=\"1\" class=\"dataframe\">\n",
       "  <thead>\n",
       "    <tr style=\"text-align: right;\">\n",
       "      <th></th>\n",
       "      <th>Price</th>\n",
       "      <th>Open</th>\n",
       "      <th>High</th>\n",
       "      <th>Low</th>\n",
       "    </tr>\n",
       "  </thead>\n",
       "  <tbody>\n",
       "    <tr>\n",
       "      <th>0</th>\n",
       "      <td>291.02</td>\n",
       "      <td>294.00</td>\n",
       "      <td>294.42</td>\n",
       "      <td>290.26</td>\n",
       "    </tr>\n",
       "    <tr>\n",
       "      <th>1</th>\n",
       "      <td>293.25</td>\n",
       "      <td>294.86</td>\n",
       "      <td>295.72</td>\n",
       "      <td>291.50</td>\n",
       "    </tr>\n",
       "    <tr>\n",
       "      <th>2</th>\n",
       "      <td>293.30</td>\n",
       "      <td>289.72</td>\n",
       "      <td>294.09</td>\n",
       "      <td>289.26</td>\n",
       "    </tr>\n",
       "    <tr>\n",
       "      <th>3</th>\n",
       "      <td>291.22</td>\n",
       "      <td>288.63</td>\n",
       "      <td>292.75</td>\n",
       "      <td>288.32</td>\n",
       "    </tr>\n",
       "    <tr>\n",
       "      <th>4</th>\n",
       "      <td>286.66</td>\n",
       "      <td>286.50</td>\n",
       "      <td>287.03</td>\n",
       "      <td>283.85</td>\n",
       "    </tr>\n",
       "    <tr>\n",
       "      <th>...</th>\n",
       "      <td>...</td>\n",
       "      <td>...</td>\n",
       "      <td>...</td>\n",
       "      <td>...</td>\n",
       "    </tr>\n",
       "    <tr>\n",
       "      <th>56</th>\n",
       "      <td>289.49</td>\n",
       "      <td>282.86</td>\n",
       "      <td>292.95</td>\n",
       "      <td>279.48</td>\n",
       "    </tr>\n",
       "    <tr>\n",
       "      <th>57</th>\n",
       "      <td>283.64</td>\n",
       "      <td>275.11</td>\n",
       "      <td>283.99</td>\n",
       "      <td>275.11</td>\n",
       "    </tr>\n",
       "    <tr>\n",
       "      <th>58</th>\n",
       "      <td>272.93</td>\n",
       "      <td>275.94</td>\n",
       "      <td>275.94</td>\n",
       "      <td>271.62</td>\n",
       "    </tr>\n",
       "    <tr>\n",
       "      <th>59</th>\n",
       "      <td>275.20</td>\n",
       "      <td>272.69</td>\n",
       "      <td>275.70</td>\n",
       "      <td>270.28</td>\n",
       "    </tr>\n",
       "    <tr>\n",
       "      <th>60</th>\n",
       "      <td>272.00</td>\n",
       "      <td>274.67</td>\n",
       "      <td>276.60</td>\n",
       "      <td>270.61</td>\n",
       "    </tr>\n",
       "  </tbody>\n",
       "</table>\n",
       "<p>61 rows × 4 columns</p>\n",
       "</div>"
      ],
      "text/plain": [
       "     Price    Open    High     Low \n",
       "0    291.02  294.00  294.42  290.26\n",
       "1    293.25  294.86  295.72  291.50\n",
       "2    293.30  289.72  294.09  289.26\n",
       "3    291.22  288.63  292.75  288.32\n",
       "4    286.66  286.50  287.03  283.85\n",
       "..      ...     ...     ...     ...\n",
       "56   289.49  282.86  292.95  279.48\n",
       "57   283.64  275.11  283.99  275.11\n",
       "58   272.93  275.94  275.94  271.62\n",
       "59   275.20  272.69  275.70  270.28\n",
       "60   272.00  274.67  276.60  270.61\n",
       "\n",
       "[61 rows x 4 columns]"
      ]
     },
     "execution_count": 19,
     "metadata": {},
     "output_type": "execute_result"
    }
   ],
   "source": [
    "test_col = test[cols].astype(float)\n",
    "test_col"
   ]
  },
  {
   "cell_type": "code",
   "execution_count": 21,
   "id": "3f6eca8c",
   "metadata": {},
   "outputs": [
    {
     "data": {
      "text/plain": [
       "(61, 4)"
      ]
     },
     "execution_count": 21,
     "metadata": {},
     "output_type": "execute_result"
    }
   ],
   "source": [
    "#test_array = (test_col.values.to_numpy())\n",
    "test_array = test_col.values\n",
    "test_array.shape"
   ]
  },
  {
   "cell_type": "code",
   "execution_count": 22,
   "id": "04709b70",
   "metadata": {},
   "outputs": [
    {
     "data": {
      "text/plain": [
       "<Axes: >"
      ]
     },
     "execution_count": 22,
     "metadata": {},
     "output_type": "execute_result"
    },
    {
     "data": {
      "image/png": "[encoded data removed]",
      "text/plain": [
       "<Figure size 640x480 with 1 Axes>"
      ]
     },
     "metadata": {},
     "output_type": "display_data"
    }
   ],
   "source": [
    "#plotting 2017 - 2020 data \n",
    "\n",
    "dt_plot = train_col\n",
    "dt_plot.plot.line()"
   ]
  },
  {
   "cell_type": "code",
   "execution_count": 23,
   "id": "1915acc1",
   "metadata": {},
   "outputs": [],
   "source": [
    "# Normalizing the Dataset\n",
    "\n",
    "scalar = StandardScaler()\n",
    "scalar = scalar.fit(train_col)\n",
    "train_col_scaled = scalar.transform(train_col)"
   ]
  },
  {
   "cell_type": "code",
   "execution_count": 24,
   "id": "dea6add5",
   "metadata": {},
   "outputs": [
    {
     "data": {
      "text/plain": [
       "(1004, 4)"
      ]
     },
     "execution_count": 24,
     "metadata": {},
     "output_type": "execute_result"
    }
   ],
   "source": [
    "train_col_scaled.shape"
   ]
  },
  {
   "cell_type": "code",
   "execution_count": 25,
   "id": "de5667e1",
   "metadata": {
    "scrolled": true
   },
   "outputs": [],
   "source": [
    "# Preparing and Reshaping the input into n_samples by timesteps\n",
    "\n",
    "train_X = []\n",
    "train_Y =[]"
   ]
  },
  {
   "cell_type": "code",
   "execution_count": 26,
   "id": "9cda8592",
   "metadata": {},
   "outputs": [],
   "source": [
    "#Defining number of days we want to predict into the future and number of days used to predict the future.\n",
    "\n",
    "n_future = 1\n",
    "n_past = 7"
   ]
  },
  {
   "cell_type": "code",
   "execution_count": 27,
   "id": "5865405f",
   "metadata": {},
   "outputs": [],
   "source": [
    "for i in range(n_past, len(train_col_scaled) -  n_future+1):\n",
    "    train_X.append(train_col_scaled[i - n_past:i, 0:train_col.shape[1]])\n",
    "    train_Y.append(train_col_scaled[i + n_future-1:i + n_future, 0])"
   ]
  },
  {
   "cell_type": "code",
   "execution_count": 28,
   "id": "fa55e57d",
   "metadata": {},
   "outputs": [],
   "source": [
    "train_X, train_Y = np.array(train_X), np.array(train_Y)"
   ]
  },
  {
   "cell_type": "code",
   "execution_count": 29,
   "id": "eda970b8",
   "metadata": {},
   "outputs": [
    {
     "name": "stdout",
     "output_type": "stream",
     "text": [
      "(997, 7, 4)\n",
      "(997, 1)\n"
     ]
    }
   ],
   "source": [
    "print(train_X.shape)\n",
    "print(train_Y.shape)"
   ]
  },
  {
   "cell_type": "markdown",
   "id": "8a0a9686",
   "metadata": {},
   "source": [
    "### Training LSTM network"
   ]
  },
  {
   "cell_type": "code",
   "execution_count": 30,
   "id": "d7cc9483",
   "metadata": {},
   "outputs": [],
   "source": [
    "model = Sequential()"
   ]
  },
  {
   "cell_type": "code",
   "execution_count": 31,
   "id": "4f093b50",
   "metadata": {},
   "outputs": [],
   "source": [
    "model.add(LSTM(64, activation= \"relu\", input_shape=(train_X.shape[1], train_X.shape[2]), return_sequences= True))\n",
    "model.add(LSTM(32, activation= \"relu\", return_sequences= False))\n",
    "model.add(Dropout(0.2))\n",
    "model.add(Dense(train_Y.shape[1]))"
   ]
  },
  {
   "cell_type": "code",
   "execution_count": 32,
   "id": "e9d8b9b3",
   "metadata": {},
   "outputs": [
    {
     "name": "stdout",
     "output_type": "stream",
     "text": [
      "Model: \"sequential\"\n",
      "_________________________________________________________________\n",
      " Layer (type)                Output Shape              Param #   \n",
      "=================================================================\n",
      " lstm (LSTM)                 (None, 7, 64)             17664     \n",
      "                                                                 \n",
      " lstm_1 (LSTM)               (None, 32)                12416     \n",
      "                                                                 \n",
      " dropout (Dropout)           (None, 32)                0         \n",
      "                                                                 \n",
      " dense (Dense)               (None, 1)                 33        \n",
      "                                                                 \n",
      "=================================================================\n",
      "Total params: 30,113\n",
      "Trainable params: 30,113\n",
      "Non-trainable params: 0\n",
      "_________________________________________________________________\n"
     ]
    }
   ],
   "source": [
    "model.compile(optimizer=\"adam\", loss=\"mse\")\n",
    "model.summary()"
   ]
  },
  {
   "cell_type": "code",
   "execution_count": 33,
   "id": "6b0f3d35",
   "metadata": {
    "scrolled": false
   },
   "outputs": [
    {
     "name": "stdout",
     "output_type": "stream",
     "text": [
      "Epoch 1/15\n",
      "50/50 [==============================] - 3s 11ms/step - loss: 0.2944 - val_loss: 0.2982\n",
      "Epoch 2/15\n",
      "50/50 [==============================] - 0s 6ms/step - loss: 0.0744 - val_loss: 0.1582\n",
      "Epoch 3/15\n",
      "50/50 [==============================] - 0s 6ms/step - loss: 0.0564 - val_loss: 0.1491\n",
      "Epoch 4/15\n",
      "50/50 [==============================] - 0s 6ms/step - loss: 0.0440 - val_loss: 0.0948\n",
      "Epoch 5/15\n",
      "50/50 [==============================] - 0s 6ms/step - loss: 0.0449 - val_loss: 0.0514\n",
      "Epoch 6/15\n",
      "50/50 [==============================] - 0s 6ms/step - loss: 0.0466 - val_loss: 0.0101\n",
      "Epoch 7/15\n",
      "50/50 [==============================] - 0s 6ms/step - loss: 0.0389 - val_loss: 0.2289\n",
      "Epoch 8/15\n",
      "50/50 [==============================] - 0s 6ms/step - loss: 0.0378 - val_loss: 0.1571\n",
      "Epoch 9/15\n",
      "50/50 [==============================] - 0s 6ms/step - loss: 0.0332 - val_loss: 0.0346\n",
      "Epoch 10/15\n",
      "50/50 [==============================] - 0s 6ms/step - loss: 0.0312 - val_loss: 0.0292\n",
      "Epoch 11/15\n",
      "50/50 [==============================] - 0s 5ms/step - loss: 0.0281 - val_loss: 0.0168\n",
      "Epoch 12/15\n",
      "50/50 [==============================] - 0s 5ms/step - loss: 0.0279 - val_loss: 0.0317\n",
      "Epoch 13/15\n",
      "50/50 [==============================] - 0s 5ms/step - loss: 0.0314 - val_loss: 0.2102\n",
      "Epoch 14/15\n",
      "50/50 [==============================] - 0s 5ms/step - loss: 0.0311 - val_loss: 0.0165\n",
      "Epoch 15/15\n",
      "50/50 [==============================] - 0s 6ms/step - loss: 0.0272 - val_loss: 0.0222\n"
     ]
    }
   ],
   "source": [
    "#fit model\n",
    "\n",
    "History = model.fit(train_X, train_Y, epochs=15, batch_size=16, validation_split=0.2, verbose=1)"
   ]
  },
  {
   "cell_type": "code",
   "execution_count": 84,
   "id": "255226bd",
   "metadata": {},
   "outputs": [
    {
     "name": "stderr",
     "output_type": "stream",
     "text": [
      "WARNING:absl:Found untraced functions such as _update_step_xla while saving (showing 1 of 1). These functions will not be directly callable after loading.\n"
     ]
    },
    {
     "name": "stdout",
     "output_type": "stream",
     "text": [
      "INFO:tensorflow:Assets written to: valueinvestor1\\assets\n"
     ]
    },
    {
     "name": "stderr",
     "output_type": "stream",
     "text": [
      "INFO:tensorflow:Assets written to: valueinvestor1\\assets\n"
     ]
    }
   ],
   "source": [
    "# Calling `save('my_model.keras')` creates a zip archive `my_model.keras`.\n",
    "#model.save(\"valueinvestor1\")\n",
    "\n",
    "# It can be used to reconstruct the model identically.\n",
    "#reconstructed_model = keras.models.load_model(\"my_model.keras\")\n"
   ]
  },
  {
   "cell_type": "code",
   "execution_count": 34,
   "id": "af59647e",
   "metadata": {
    "scrolled": false
   },
   "outputs": [
    {
     "data": {
      "text/plain": [
       "<matplotlib.legend.Legend at 0x2381224cbd0>"
      ]
     },
     "execution_count": 34,
     "metadata": {},
     "output_type": "execute_result"
    },
    {
     "data": {
      "image/png": "[encoded data removed]",
      "text/plain": [
       "<Figure size 640x480 with 1 Axes>"
      ]
     },
     "metadata": {},
     "output_type": "display_data"
    }
   ],
   "source": [
    "plt.plot(History.history['loss'], label='Training loss')\n",
    "plt.plot(History.history['val_loss'], label = 'Validation loss')\n",
    "plt.legend()"
   ]
  },
  {
   "cell_type": "markdown",
   "id": "bd676fe7",
   "metadata": {},
   "source": [
    "### Predicting on Test Dataset"
   ]
  },
  {
   "cell_type": "code",
   "execution_count": 35,
   "id": "797343af",
   "metadata": {},
   "outputs": [
    {
     "data": {
      "text/plain": [
       "(61, 1)"
      ]
     },
     "execution_count": 35,
     "metadata": {},
     "output_type": "execute_result"
    }
   ],
   "source": [
    "#test_array = (test_col.values.to_numpy())\n",
    "test_dates_array = test_dates.values\n",
    "test_dates_array = np.reshape(test_dates_array, (-1,1))\n",
    "test_dates_array.shape"
   ]
  },
  {
   "cell_type": "code",
   "execution_count": 36,
   "id": "1022dfb5",
   "metadata": {},
   "outputs": [],
   "source": [
    "# Preparing test data for prediction\n",
    "\n",
    "test_X = []\n",
    "test_Y =[]"
   ]
  },
  {
   "cell_type": "code",
   "execution_count": 37,
   "id": "c2b1c581",
   "metadata": {},
   "outputs": [],
   "source": [
    "for i in range(n_past, len(test_col) -  n_future+1):\n",
    "    test_X.append(test_array[i - n_past:i, 0:test_col.shape[1]])\n",
    "    test_Y.append(test_array[i + n_future-1:i + n_future, 0])"
   ]
  },
  {
   "cell_type": "code",
   "execution_count": 38,
   "id": "5a8794cc",
   "metadata": {},
   "outputs": [],
   "source": [
    "test_X, test_Y = np.array(test_X), np.array(test_Y)"
   ]
  },
  {
   "cell_type": "code",
   "execution_count": 39,
   "id": "fa698a2a",
   "metadata": {},
   "outputs": [
    {
     "data": {
      "text/plain": [
       "(54, 7, 4)"
      ]
     },
     "execution_count": 39,
     "metadata": {},
     "output_type": "execute_result"
    }
   ],
   "source": [
    "test_X.shape"
   ]
  },
  {
   "cell_type": "code",
   "execution_count": 40,
   "id": "3f5af5f3",
   "metadata": {},
   "outputs": [
    {
     "data": {
      "text/plain": [
       "(54, 1)"
      ]
     },
     "execution_count": 40,
     "metadata": {},
     "output_type": "execute_result"
    }
   ],
   "source": [
    "test_Y.shape"
   ]
  },
  {
   "cell_type": "code",
   "execution_count": 41,
   "id": "0811a413",
   "metadata": {},
   "outputs": [
    {
     "name": "stdout",
     "output_type": "stream",
     "text": [
      "2/2 [==============================] - 0s 13ms/step\n"
     ]
    }
   ],
   "source": [
    "# for daily prediction\n",
    "\n",
    "forecast =  model.predict(test_X)"
   ]
  },
  {
   "cell_type": "code",
   "execution_count": 42,
   "id": "b4bc829c",
   "metadata": {},
   "outputs": [
    {
     "data": {
      "text/plain": [
       "(54, 1)"
      ]
     },
     "execution_count": 42,
     "metadata": {},
     "output_type": "execute_result"
    }
   ],
   "source": [
    "forecast.shape"
   ]
  },
  {
   "cell_type": "code",
   "execution_count": 44,
   "id": "d4cac218",
   "metadata": {},
   "outputs": [],
   "source": [
    "forecast_dates=[]\n",
    "for i in range(n_past, len(test_dates_array) -  n_future+1):\n",
    "    forecast_dates.append(test_dates_array[i + n_future-1:i + n_future, 0])"
   ]
  },
  {
   "cell_type": "code",
   "execution_count": 45,
   "id": "ea8bfd60",
   "metadata": {},
   "outputs": [
    {
     "data": {
      "text/plain": [
       "(54, 1)"
      ]
     },
     "execution_count": 45,
     "metadata": {},
     "output_type": "execute_result"
    }
   ],
   "source": [
    "forecast_dates = np.array(forecast_dates)\n",
    "forecast_dates.shape"
   ]
  },
  {
   "cell_type": "code",
   "execution_count": 83,
   "id": "8f153d97",
   "metadata": {
    "scrolled": false
   },
   "outputs": [
    {
     "data": {
      "text/html": [
       "<div>\n",
       "<style scoped>\n",
       "    .dataframe tbody tr th:only-of-type {\n",
       "        vertical-align: middle;\n",
       "    }\n",
       "\n",
       "    .dataframe tbody tr th {\n",
       "        vertical-align: top;\n",
       "    }\n",
       "\n",
       "    .dataframe thead th {\n",
       "        text-align: right;\n",
       "    }\n",
       "</style>\n",
       "<table border=\"1\" class=\"dataframe\">\n",
       "  <thead>\n",
       "    <tr style=\"text-align: right;\">\n",
       "      <th></th>\n",
       "      <th>Date</th>\n",
       "      <th>Price</th>\n",
       "    </tr>\n",
       "  </thead>\n",
       "  <tbody>\n",
       "    <tr>\n",
       "      <th>0</th>\n",
       "      <td>2021-03-22</td>\n",
       "      <td>240.416458</td>\n",
       "    </tr>\n",
       "    <tr>\n",
       "      <th>1</th>\n",
       "      <td>2021-03-19</td>\n",
       "      <td>240.047028</td>\n",
       "    </tr>\n",
       "    <tr>\n",
       "      <th>2</th>\n",
       "      <td>2021-03-18</td>\n",
       "      <td>234.787155</td>\n",
       "    </tr>\n",
       "    <tr>\n",
       "      <th>3</th>\n",
       "      <td>2021-03-17</td>\n",
       "      <td>227.890121</td>\n",
       "    </tr>\n",
       "    <tr>\n",
       "      <th>4</th>\n",
       "      <td>2021-03-16</td>\n",
       "      <td>239.027222</td>\n",
       "    </tr>\n",
       "  </tbody>\n",
       "</table>\n",
       "</div>"
      ],
      "text/plain": [
       "        Date       Price\n",
       "0 2021-03-22  240.416458\n",
       "1 2021-03-19  240.047028\n",
       "2 2021-03-18  234.787155\n",
       "3 2021-03-17  227.890121\n",
       "4 2021-03-16  239.027222"
      ]
     },
     "execution_count": 83,
     "metadata": {},
     "output_type": "execute_result"
    }
   ],
   "source": [
    "df_price= pd.DataFrame(forecast, columns=[\"Price\"])\n",
    "df_dates= pd.DataFrame(forecast_dates, columns=[\"Date\"])\n",
    "df_forecast = pd.concat([df_dates, df_price], axis=1, join=\"inner\")\n",
    "df_forecast[\"Date\"] = pd.to_datetime(df_forecast[\"Date\"])\n",
    "df_forecast.head()"
   ]
  },
  {
   "cell_type": "code",
   "execution_count": 53,
   "id": "5d505c1e",
   "metadata": {},
   "outputs": [
    {
     "name": "stdout",
     "output_type": "stream",
     "text": [
      "['Date', ' Price ', ' Open ', ' High ', ' Low ', '  Vol.  ', 'Change %', 'Month', 'WeekNum', 'Quarter', 'Year', 'Quarter/Year']\n"
     ]
    }
   ],
   "source": [
    "print(train.columns.tolist())"
   ]
  },
  {
   "cell_type": "code",
   "execution_count": 63,
   "id": "92a71f59",
   "metadata": {},
   "outputs": [
    {
     "data": {
      "text/html": [
       "<div>\n",
       "<style scoped>\n",
       "    .dataframe tbody tr th:only-of-type {\n",
       "        vertical-align: middle;\n",
       "    }\n",
       "\n",
       "    .dataframe tbody tr th {\n",
       "        vertical-align: top;\n",
       "    }\n",
       "\n",
       "    .dataframe thead th {\n",
       "        text-align: right;\n",
       "    }\n",
       "</style>\n",
       "<table border=\"1\" class=\"dataframe\">\n",
       "  <thead>\n",
       "    <tr style=\"text-align: right;\">\n",
       "      <th></th>\n",
       "      <th>Date</th>\n",
       "      <th>Price</th>\n",
       "    </tr>\n",
       "  </thead>\n",
       "  <tbody>\n",
       "    <tr>\n",
       "      <th>0</th>\n",
       "      <td>2021-03-31</td>\n",
       "      <td>291.02</td>\n",
       "    </tr>\n",
       "    <tr>\n",
       "      <th>1</th>\n",
       "      <td>2021-03-30</td>\n",
       "      <td>293.25</td>\n",
       "    </tr>\n",
       "    <tr>\n",
       "      <th>2</th>\n",
       "      <td>2021-03-29</td>\n",
       "      <td>293.30</td>\n",
       "    </tr>\n",
       "    <tr>\n",
       "      <th>3</th>\n",
       "      <td>2021-03-26</td>\n",
       "      <td>291.22</td>\n",
       "    </tr>\n",
       "    <tr>\n",
       "      <th>4</th>\n",
       "      <td>2021-03-25</td>\n",
       "      <td>286.66</td>\n",
       "    </tr>\n",
       "  </tbody>\n",
       "</table>\n",
       "</div>"
      ],
      "text/plain": [
       "        Date   Price \n",
       "0 2021-03-31   291.02\n",
       "1 2021-03-30   293.25\n",
       "2 2021-03-29   293.30\n",
       "3 2021-03-26   291.22\n",
       "4 2021-03-25   286.66"
      ]
     },
     "execution_count": 63,
     "metadata": {},
     "output_type": "execute_result"
    }
   ],
   "source": [
    "Original = Dataset[['Date', ' Price ']].copy()\n",
    "Original.head()"
   ]
  },
  {
   "cell_type": "code",
   "execution_count": 77,
   "id": "f9306c65",
   "metadata": {},
   "outputs": [
    {
     "data": {
      "text/plain": [
       "<matplotlib.legend.Legend at 0x238202524d0>"
      ]
     },
     "execution_count": 77,
     "metadata": {},
     "output_type": "execute_result"
    },
    {
     "data": {
      "image/png": "[encoded data removed]",
      "text/plain": [
       "<Figure size 640x480 with 1 Axes>"
      ]
     },
     "metadata": {},
     "output_type": "display_data"
    }
   ],
   "source": [
    "sns.lineplot(Original, x='Date', y=' Price ', label='Actual')\n",
    "sns.lineplot(df_forecast, x='Date', y='Price', label='Prediction')\n",
    "plt.legend()"
   ]
  },
  {
   "cell_type": "code",
   "execution_count": 69,
   "id": "76e81e8a",
   "metadata": {},
   "outputs": [
    {
     "data": {
      "text/html": [
       "<div>\n",
       "<style scoped>\n",
       "    .dataframe tbody tr th:only-of-type {\n",
       "        vertical-align: middle;\n",
       "    }\n",
       "\n",
       "    .dataframe tbody tr th {\n",
       "        vertical-align: top;\n",
       "    }\n",
       "\n",
       "    .dataframe thead th {\n",
       "        text-align: right;\n",
       "    }\n",
       "</style>\n",
       "<table border=\"1\" class=\"dataframe\">\n",
       "  <thead>\n",
       "    <tr style=\"text-align: right;\">\n",
       "      <th></th>\n",
       "      <th>real_price</th>\n",
       "      <th>pred_price</th>\n",
       "    </tr>\n",
       "  </thead>\n",
       "  <tbody>\n",
       "    <tr>\n",
       "      <th>0</th>\n",
       "      <td>288.65</td>\n",
       "      <td>240.416458</td>\n",
       "    </tr>\n",
       "    <tr>\n",
       "      <th>1</th>\n",
       "      <td>285.47</td>\n",
       "      <td>240.047028</td>\n",
       "    </tr>\n",
       "    <tr>\n",
       "      <th>2</th>\n",
       "      <td>279.25</td>\n",
       "      <td>234.787155</td>\n",
       "    </tr>\n",
       "    <tr>\n",
       "      <th>3</th>\n",
       "      <td>283.35</td>\n",
       "      <td>227.890121</td>\n",
       "    </tr>\n",
       "    <tr>\n",
       "      <th>4</th>\n",
       "      <td>292.33</td>\n",
       "      <td>239.027222</td>\n",
       "    </tr>\n",
       "    <tr>\n",
       "      <th>5</th>\n",
       "      <td>292.74</td>\n",
       "      <td>224.579742</td>\n",
       "    </tr>\n",
       "    <tr>\n",
       "      <th>6</th>\n",
       "      <td>284.93</td>\n",
       "      <td>223.470261</td>\n",
       "    </tr>\n",
       "    <tr>\n",
       "      <th>7</th>\n",
       "      <td>286.00</td>\n",
       "      <td>224.834595</td>\n",
       "    </tr>\n",
       "    <tr>\n",
       "      <th>8</th>\n",
       "      <td>282.24</td>\n",
       "      <td>219.855453</td>\n",
       "    </tr>\n",
       "    <tr>\n",
       "      <th>9</th>\n",
       "      <td>285.79</td>\n",
       "      <td>239.183182</td>\n",
       "    </tr>\n",
       "    <tr>\n",
       "      <th>10</th>\n",
       "      <td>277.50</td>\n",
       "      <td>237.285721</td>\n",
       "    </tr>\n",
       "    <tr>\n",
       "      <th>11</th>\n",
       "      <td>274.75</td>\n",
       "      <td>235.448669</td>\n",
       "    </tr>\n",
       "    <tr>\n",
       "      <th>12</th>\n",
       "      <td>278.01</td>\n",
       "      <td>220.788284</td>\n",
       "    </tr>\n",
       "    <tr>\n",
       "      <th>13</th>\n",
       "      <td>279.10</td>\n",
       "      <td>232.205429</td>\n",
       "    </tr>\n",
       "    <tr>\n",
       "      <th>14</th>\n",
       "      <td>273.58</td>\n",
       "      <td>217.152466</td>\n",
       "    </tr>\n",
       "    <tr>\n",
       "      <th>15</th>\n",
       "      <td>270.17</td>\n",
       "      <td>217.490707</td>\n",
       "    </tr>\n",
       "    <tr>\n",
       "      <th>16</th>\n",
       "      <td>270.71</td>\n",
       "      <td>221.280792</td>\n",
       "    </tr>\n",
       "    <tr>\n",
       "      <th>17</th>\n",
       "      <td>271.90</td>\n",
       "      <td>215.670609</td>\n",
       "    </tr>\n",
       "    <tr>\n",
       "      <th>18</th>\n",
       "      <td>273.71</td>\n",
       "      <td>226.651932</td>\n",
       "    </tr>\n",
       "    <tr>\n",
       "      <th>19</th>\n",
       "      <td>270.51</td>\n",
       "      <td>215.097672</td>\n",
       "    </tr>\n",
       "    <tr>\n",
       "      <th>20</th>\n",
       "      <td>271.34</td>\n",
       "      <td>217.960556</td>\n",
       "    </tr>\n",
       "    <tr>\n",
       "      <th>21</th>\n",
       "      <td>266.99</td>\n",
       "      <td>224.825058</td>\n",
       "    </tr>\n",
       "    <tr>\n",
       "      <th>22</th>\n",
       "      <td>270.90</td>\n",
       "      <td>225.073822</td>\n",
       "    </tr>\n",
       "    <tr>\n",
       "      <th>23</th>\n",
       "      <td>270.90</td>\n",
       "      <td>225.484131</td>\n",
       "    </tr>\n",
       "    <tr>\n",
       "      <th>24</th>\n",
       "      <td>271.81</td>\n",
       "      <td>217.071487</td>\n",
       "    </tr>\n",
       "    <tr>\n",
       "      <th>25</th>\n",
       "      <td>266.00</td>\n",
       "      <td>212.321808</td>\n",
       "    </tr>\n",
       "    <tr>\n",
       "      <th>26</th>\n",
       "      <td>264.70</td>\n",
       "      <td>218.737167</td>\n",
       "    </tr>\n",
       "    <tr>\n",
       "      <th>27</th>\n",
       "      <td>265.90</td>\n",
       "      <td>225.321274</td>\n",
       "    </tr>\n",
       "    <tr>\n",
       "      <th>28</th>\n",
       "      <td>268.98</td>\n",
       "      <td>224.384567</td>\n",
       "    </tr>\n",
       "    <tr>\n",
       "      <th>29</th>\n",
       "      <td>275.20</td>\n",
       "      <td>211.638229</td>\n",
       "    </tr>\n",
       "    <tr>\n",
       "      <th>30</th>\n",
       "      <td>271.70</td>\n",
       "      <td>224.359344</td>\n",
       "    </tr>\n",
       "    <tr>\n",
       "      <th>31</th>\n",
       "      <td>270.11</td>\n",
       "      <td>218.895187</td>\n",
       "    </tr>\n",
       "    <tr>\n",
       "      <th>32</th>\n",
       "      <td>263.53</td>\n",
       "      <td>217.476898</td>\n",
       "    </tr>\n",
       "    <tr>\n",
       "      <th>33</th>\n",
       "      <td>263.15</td>\n",
       "      <td>204.159805</td>\n",
       "    </tr>\n",
       "    <tr>\n",
       "      <th>34</th>\n",
       "      <td>263.80</td>\n",
       "      <td>224.924561</td>\n",
       "    </tr>\n",
       "    <tr>\n",
       "      <th>35</th>\n",
       "      <td>258.11</td>\n",
       "      <td>211.568756</td>\n",
       "    </tr>\n",
       "    <tr>\n",
       "      <th>36</th>\n",
       "      <td>265.96</td>\n",
       "      <td>203.041351</td>\n",
       "    </tr>\n",
       "    <tr>\n",
       "      <th>37</th>\n",
       "      <td>265.50</td>\n",
       "      <td>209.337738</td>\n",
       "    </tr>\n",
       "    <tr>\n",
       "      <th>38</th>\n",
       "      <td>269.34</td>\n",
       "      <td>208.296524</td>\n",
       "    </tr>\n",
       "    <tr>\n",
       "      <th>39</th>\n",
       "      <td>265.30</td>\n",
       "      <td>208.138474</td>\n",
       "    </tr>\n",
       "    <tr>\n",
       "      <th>40</th>\n",
       "      <td>268.25</td>\n",
       "      <td>221.395462</td>\n",
       "    </tr>\n",
       "    <tr>\n",
       "      <th>41</th>\n",
       "      <td>274.40</td>\n",
       "      <td>206.449173</td>\n",
       "    </tr>\n",
       "    <tr>\n",
       "      <th>42</th>\n",
       "      <td>279.80</td>\n",
       "      <td>225.121323</td>\n",
       "    </tr>\n",
       "    <tr>\n",
       "      <th>43</th>\n",
       "      <td>278.19</td>\n",
       "      <td>221.488159</td>\n",
       "    </tr>\n",
       "    <tr>\n",
       "      <th>44</th>\n",
       "      <td>279.79</td>\n",
       "      <td>226.549454</td>\n",
       "    </tr>\n",
       "    <tr>\n",
       "      <th>45</th>\n",
       "      <td>276.90</td>\n",
       "      <td>219.534988</td>\n",
       "    </tr>\n",
       "    <tr>\n",
       "      <th>46</th>\n",
       "      <td>284.79</td>\n",
       "      <td>210.874023</td>\n",
       "    </tr>\n",
       "    <tr>\n",
       "      <th>47</th>\n",
       "      <td>283.78</td>\n",
       "      <td>231.995331</td>\n",
       "    </tr>\n",
       "    <tr>\n",
       "      <th>48</th>\n",
       "      <td>289.99</td>\n",
       "      <td>231.894836</td>\n",
       "    </tr>\n",
       "    <tr>\n",
       "      <th>49</th>\n",
       "      <td>289.49</td>\n",
       "      <td>224.384781</td>\n",
       "    </tr>\n",
       "    <tr>\n",
       "      <th>50</th>\n",
       "      <td>283.64</td>\n",
       "      <td>234.764938</td>\n",
       "    </tr>\n",
       "    <tr>\n",
       "      <th>51</th>\n",
       "      <td>272.93</td>\n",
       "      <td>221.339996</td>\n",
       "    </tr>\n",
       "    <tr>\n",
       "      <th>52</th>\n",
       "      <td>275.20</td>\n",
       "      <td>234.801208</td>\n",
       "    </tr>\n",
       "    <tr>\n",
       "      <th>53</th>\n",
       "      <td>272.00</td>\n",
       "      <td>272.900757</td>\n",
       "    </tr>\n",
       "  </tbody>\n",
       "</table>\n",
       "</div>"
      ],
      "text/plain": [
       "    real_price  pred_price\n",
       "0       288.65  240.416458\n",
       "1       285.47  240.047028\n",
       "2       279.25  234.787155\n",
       "3       283.35  227.890121\n",
       "4       292.33  239.027222\n",
       "5       292.74  224.579742\n",
       "6       284.93  223.470261\n",
       "7       286.00  224.834595\n",
       "8       282.24  219.855453\n",
       "9       285.79  239.183182\n",
       "10      277.50  237.285721\n",
       "11      274.75  235.448669\n",
       "12      278.01  220.788284\n",
       "13      279.10  232.205429\n",
       "14      273.58  217.152466\n",
       "15      270.17  217.490707\n",
       "16      270.71  221.280792\n",
       "17      271.90  215.670609\n",
       "18      273.71  226.651932\n",
       "19      270.51  215.097672\n",
       "20      271.34  217.960556\n",
       "21      266.99  224.825058\n",
       "22      270.90  225.073822\n",
       "23      270.90  225.484131\n",
       "24      271.81  217.071487\n",
       "25      266.00  212.321808\n",
       "26      264.70  218.737167\n",
       "27      265.90  225.321274\n",
       "28      268.98  224.384567\n",
       "29      275.20  211.638229\n",
       "30      271.70  224.359344\n",
       "31      270.11  218.895187\n",
       "32      263.53  217.476898\n",
       "33      263.15  204.159805\n",
       "34      263.80  224.924561\n",
       "35      258.11  211.568756\n",
       "36      265.96  203.041351\n",
       "37      265.50  209.337738\n",
       "38      269.34  208.296524\n",
       "39      265.30  208.138474\n",
       "40      268.25  221.395462\n",
       "41      274.40  206.449173\n",
       "42      279.80  225.121323\n",
       "43      278.19  221.488159\n",
       "44      279.79  226.549454\n",
       "45      276.90  219.534988\n",
       "46      284.79  210.874023\n",
       "47      283.78  231.995331\n",
       "48      289.99  231.894836\n",
       "49      289.49  224.384781\n",
       "50      283.64  234.764938\n",
       "51      272.93  221.339996\n",
       "52      275.20  234.801208\n",
       "53      272.00  272.900757"
      ]
     },
     "execution_count": 69,
     "metadata": {},
     "output_type": "execute_result"
    }
   ],
   "source": [
    "actual_y= pd.DataFrame(test_Y, columns=[\"real_price\"])\n",
    "pred_y= pd.DataFrame(forecast, columns=[\"pred_price\"])\n",
    "real_pred = pd.concat([actual_y, pred_y], axis=1, join=\"inner\")\n",
    "real_pred"
   ]
  },
  {
   "cell_type": "code",
   "execution_count": null,
   "id": "ee2f8d17",
   "metadata": {},
   "outputs": [],
   "source": []
  }
 ],
 "metadata": {
  "kernelspec": {
   "display_name": "Python 3 (ipykernel)",
   "language": "python",
   "name": "python3"
  },
  "language_info": {
   "codemirror_mode": {
    "name": "ipython",
    "version": 3
   },
   "file_extension": ".py",
   "mimetype": "text/x-python",
   "name": "python",
   "nbconvert_exporter": "python",
   "pygments_lexer": "ipython3",
   "version": "3.11.3"
  }
 },
 "nbformat": 4,
 "nbformat_minor": 5
}
